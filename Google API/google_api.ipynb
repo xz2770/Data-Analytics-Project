{
 "cells": [
  {
   "cell_type": "code",
   "execution_count": 9,
   "metadata": {},
   "outputs": [],
   "source": [
    "import requests\n",
    "import json\n",
    "import pandas as pd\n",
    "import numpy as np"
   ]
  },
  {
   "cell_type": "code",
   "execution_count": 12,
   "metadata": {},
   "outputs": [],
   "source": [
    "def get_businesses(location,type_, api_key, radius=None): \n",
    "    url = \"https://maps.googleapis.com/maps/api/place/nearbysearch/json?location=%s&key=%s\" % (location, api_key)\n",
    "    url+=\"&rankby=distance\"\n",
    "    if type_:\n",
    "        url+=\"&type=\"+str(type_)\n",
    "    \n",
    "    try:\n",
    "        response = requests.get(url)\n",
    "        if not response.status_code == 200:\n",
    "            print(\"HTTP error\",response.status_code)            \n",
    "        else:\n",
    "            try:\n",
    "                response_data = response.json()\n",
    "            except:\n",
    "                print(\"Response not in valid JSON format\")\n",
    "    except:\n",
    "        print(\"Something went wrong with requests.get\")\n",
    "    \n",
    "\n",
    "    results = response_data['results']\n",
    "    establish_list = list()\n",
    "\n",
    "    for x in results:\n",
    "        location = x.get('geometry').get('location')\n",
    "        name = x.get('name')\n",
    "        rating = x.get('rating')\n",
    "        establish_list.append((name,rating,location))\n",
    "\n",
    "    return establish_list     "
   ]
  },
  {
   "cell_type": "code",
   "execution_count": 13,
   "metadata": {},
   "outputs": [],
   "source": [
    "data = pd.read_csv('dataframe_geography.csv')"
   ]
  },
  {
   "cell_type": "code",
   "execution_count": 14,
   "metadata": {},
   "outputs": [],
   "source": [
    "data['location'] = data['latitude'].map(str) + ',' + data['longitude'].map(str)"
   ]
  },
  {
   "cell_type": "code",
   "execution_count": 15,
   "metadata": {},
   "outputs": [
    {
     "name": "stdout",
     "output_type": "stream",
     "text": [
      "Please input an api key.\n"
     ]
    }
   ],
   "source": [
    "radius = 500\n",
    "# api_key =\n",
    "try:\n",
    "    data['restaurant'] = data['location'].apply(lambda x: get_businesses(x, api_key, \"restaurant\", radius))\n",
    "except NameError:\n",
    "    print ('Please input an api key.')"
   ]
  },
  {
   "cell_type": "code",
   "execution_count": 66,
   "metadata": {},
   "outputs": [],
   "source": [
    "# list_ = []\n",
    "# for i in range(48):  \n",
    "#     filename = '/Users/user/Desktop/CU/Data Analytics/Project/restaurant/' + str(i) + '.csv'\n",
    "#     tmp = pd.read_csv(filename)\n",
    "#     tmp = tmp[['zipcode', 'listing_id', 'latitude', 'longitude', 'sub_borough', 'borough', 'location', 'restaurant']]\n",
    "#     list_.append(tmp)"
   ]
  },
  {
   "cell_type": "code",
   "execution_count": 67,
   "metadata": {},
   "outputs": [],
   "source": [
    "# data = pd.concat(list_)"
   ]
  },
  {
   "cell_type": "code",
   "execution_count": 48,
   "metadata": {},
   "outputs": [],
   "source": [
    "# data.to_csv('dataframe_geography_restaurant.csv')"
   ]
  },
  {
   "cell_type": "code",
   "execution_count": null,
   "metadata": {},
   "outputs": [],
   "source": []
  },
  {
   "cell_type": "code",
   "execution_count": 155,
   "metadata": {},
   "outputs": [],
   "source": [
    "# calcualte the average rating of nearby restaurants\n",
    "data = pd.read_csv('dataframe_geography_restaurant.csv')"
   ]
  },
  {
   "cell_type": "code",
   "execution_count": 159,
   "metadata": {},
   "outputs": [],
   "source": [
    "def cal_rating_mean(x):\n",
    "    import ast\n",
    "    x = ast.literal_eval(x)\n",
    "    list_ = [item[1] for item in x if item[1] is not None]\n",
    "    mean = np.mean(list_)\n",
    "    return mean"
   ]
  },
  {
   "cell_type": "code",
   "execution_count": 160,
   "metadata": {},
   "outputs": [
    {
     "name": "stderr",
     "output_type": "stream",
     "text": [
      "/anaconda3/lib/python3.6/site-packages/numpy/core/fromnumeric.py:2957: RuntimeWarning: Mean of empty slice.\n",
      "  out=out, **kwargs)\n"
     ]
    }
   ],
   "source": [
    "data['avg_restaurant_rating'] = data['restaurant'].apply(lambda x: cal_rating_mean(x))"
   ]
  },
  {
   "cell_type": "code",
   "execution_count": 117,
   "metadata": {},
   "outputs": [],
   "source": [
    "data.to_csv('dataframe_geography_restaurant_rating.csv')"
   ]
  },
  {
   "cell_type": "code",
   "execution_count": null,
   "metadata": {},
   "outputs": [],
   "source": []
  }
 ],
 "metadata": {
  "kernelspec": {
   "display_name": "Python 3",
   "language": "python",
   "name": "python3"
  },
  "language_info": {
   "codemirror_mode": {
    "name": "ipython",
    "version": 3
   },
   "file_extension": ".py",
   "mimetype": "text/x-python",
   "name": "python",
   "nbconvert_exporter": "python",
   "pygments_lexer": "ipython3",
   "version": "3.6.5"
  }
 },
 "nbformat": 4,
 "nbformat_minor": 2
}
